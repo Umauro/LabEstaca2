{
 "cells": [
  {
   "cell_type": "markdown",
   "metadata": {},
   "source": [
    "<img src=\"img/usmlogo.png\" style=\"float:right;height:100px\">\n",
    "<img src=\"img/dilogo.png\" style=\"float:left;height:60px\">\n",
    "<center>\n",
    "<div>\n",
    "    <center>\n",
    "    <h1>Laboratorio 1 Estadística Computacional</h1>\n",
    "    </center>\n",
    "</div>\n",
    "<div>\n",
    "    <br>\n",
    "    <h5> Giorgio Pellizzari - 201473599-5 - Malla Nueva</h5>\n",
    "    <h5> Felipe Vega - 201473511-1 - Malla Nueva</h5>\n",
    "    <h6>9 de abril del 2018</h6>\n",
    "</div>\n",
    "</center>"
   ]
  },
  {
   "cell_type": "code",
   "execution_count": 8,
   "metadata": {},
   "outputs": [],
   "source": [
    "import pandas as pd\n",
    "import matplotlib.pyplot as plt\n",
    "import numpy as np\n",
    "import warnings\n",
    "warnings.filterwarnings('ignore')"
   ]
  },
  {
   "cell_type": "markdown",
   "metadata": {},
   "source": [
    "# Simulación\n",
    "\n",
    "En la siguiente simulación se considerará el siguiente supuesto: __Cada posible camino en una trifurcación llevará al mismo punto, donde se encuentra la siguiente trifurcación, donde se volverá a elegir que camino seguir__. En un punto, cada camino tiene la misma probabilidad de ser elegido $\\left(\\frac{1}{3}\\right)$, independiente de la decisión tomada en el punto anterior.\n",
    "\n",
    "El objeto del estudio será el tiempo de viaje entre las ciudades __A__ y __B__, por lo que se definirá la variable aleatoria $X$ como el tiempo que demora en llegar el conductor desde la ciudad __A__ a la __B__.\n",
    "\n",
    "Se realizará una simulación que considerará 200000 viajes, desde los cuales se obtendrán los tiempos para cada uno. Como es necesario obtener los mismos resultados cada vez que se ejecute el bloque de código con la simulación, se utilizará un generador de números pseudo-aleatorios inicializado con una semilla arbitraria. \n",
    "\n",
    "El resultado de cada uno de los viajes se guardará en el arreglo __\"tiemposDeViaje\"__. Además, como luego se requiere calcular la probabilidad de que el conductor decida tomar el camino medio 5 veces seguidas, se mantiene el contador _**contadorDeMExitos**_ para almacenar la cantidad de veces que se da esta situación."
   ]
  },
  {
   "cell_type": "code",
   "execution_count": 9,
   "metadata": {},
   "outputs": [],
   "source": [
    "np.random.seed(2)\n",
    "tiemposDeViaje = []\n",
    "contadorDeMExitos = 0\n",
    "for i in range(200000):\n",
    "    tiempo = 0\n",
    "    randomNumber = np.random.randint(3,size=20)\n",
    "    cincoMContador = 0\n",
    "    for i in randomNumber:\n",
    "        if i == 0:\n",
    "            tiempo += 6\n",
    "            cincoMContador = 0\n",
    "        elif i == 1:\n",
    "            tiempo += 8\n",
    "            cincoMContador += 1\n",
    "        else:\n",
    "            tiempo += 10\n",
    "            cincoMContador = 0\n",
    "        if cincoMContador >= 5:\n",
    "            contadorDeMExitos += 1\n",
    "        \n",
    "    tiemposDeViaje.append(tiempo)\n",
    "tiemposDeViaje = np.asarray(tiemposDeViaje)\n"
   ]
  },
  {
   "cell_type": "markdown",
   "metadata": {},
   "source": [
    "Para obtener el valor esperado se utilizará el _**Teorema Del Límite Central**_ [1], el cual indica que si se tiene la media $(\\bar{X})$ de una muestra aleatoria de un tamaño _**n**_ lo suficientemente grande, $(\\bar{X})$ se puede aproximar a una distribución normal. Como en este caso se tiene un $n = 200000$ es posible aplicar el teorema, llegando a una aproximación normal, donde el valor esperado de la muestra corresponderá a la media de esta. Para calcular la media muestral se utiliza el método _**mean()**_ de _**Numpy**_."
   ]
  },
  {
   "cell_type": "code",
   "execution_count": 10,
   "metadata": {},
   "outputs": [
    {
     "name": "stdout",
     "output_type": "stream",
     "text": [
      "El valor esperado del tiempo de viaje es de: 159.98677 [min]\n"
     ]
    }
   ],
   "source": [
    "valorEsperado = tiemposDeViaje.mean()\n",
    "print(\"El valor esperado del tiempo de viaje es de: \"+str(valorEsperado)+\" [min]\")"
   ]
  },
  {
   "cell_type": "markdown",
   "metadata": {},
   "source": [
    "De esta manera, se obtiene que el valor esperado del tiempo de viaje entre A y B es de 159.98677 minutos, lo cual es aproximadamente 160 minutos.\n",
    "\n"
   ]
  },
  {
   "cell_type": "code",
   "execution_count": 11,
   "metadata": {},
   "outputs": [
    {
     "name": "stdout",
     "output_type": "stream",
     "text": [
      "160.0\n"
     ]
    }
   ],
   "source": [
    "valorEsperadoTeo = (1/3)*(6 + 8 + 10)*20\n",
    "print(valorEsperadoTeo)"
   ]
  },
  {
   "cell_type": "markdown",
   "metadata": {},
   "source": [
    "Luego, se obtiene la varianza de la variable aleatoria utilizando el método _**var()**_ de la librería _**Numpy**_."
   ]
  },
  {
   "cell_type": "code",
   "execution_count": 12,
   "metadata": {},
   "outputs": [
    {
     "name": "stdout",
     "output_type": "stream",
     "text": [
      "La varianza de los tiempos de viaje es de: 53.372284967099986 [min^2]\n"
     ]
    }
   ],
   "source": [
    "varianza = tiemposDeViaje.var()\n",
    "print(\"La varianza de los tiempos de viaje es de: \" +str(varianza)+ \" [min^2]\")"
   ]
  },
  {
   "cell_type": "markdown",
   "metadata": {},
   "source": [
    "Con lo que se obtiene una varianza muestral de 53.3722 minutos cuadrados, aproximadamente 53 minutos cuadrados.\n",
    "\n",
    "Para obtener la probabilidad de que el viaje dure menos de 158 minutos se utiliza la definición empírica de probabilidad, calculando el número de éxitos dividido el número de experimentos."
   ]
  },
  {
   "cell_type": "code",
   "execution_count": 13,
   "metadata": {},
   "outputs": [
    {
     "name": "stdout",
     "output_type": "stream",
     "text": [
      "La probabilidad de que el viaje dure menos de 158 minutos es de: 0.341905\n"
     ]
    }
   ],
   "source": [
    "contador = 0\n",
    "for i in tiemposDeViaje:\n",
    "    if i < 158:\n",
    "        contador += 1\n",
    "probabilidad158 = contador/len(tiemposDeViaje)    \n",
    "print(\"La probabilidad de que el viaje dure menos de 158 minutos es de: \"+ str(probabilidad158))"
   ]
  },
  {
   "cell_type": "markdown",
   "metadata": {
    "collapsed": true
   },
   "source": [
    "De esta manera se obtiene que la probabilidad de que un viaje dure menos de 158 minutos es de 0.3419.\n",
    "\n",
    "Por último, se desea calcular la probabilidad de que el conductor decida elegir el camino medio 5 veces seguidas, por lo que se calcula esta probabilidad utilizando el mismo medio anterior."
   ]
  },
  {
   "cell_type": "code",
   "execution_count": 14,
   "metadata": {},
   "outputs": [
    {
     "name": "stdout",
     "output_type": "stream",
     "text": [
      "La probabilidad de que se siga el camino medio 5 veces seguidas es de: 0.0040734375\n"
     ]
    }
   ],
   "source": [
    "probabilidad5Medios = contadorDeMExitos/(16*len(tiemposDeViaje))\n",
    "print(\"La probabilidad de que se siga el camino medio 5 veces seguidas es de: \"+str(probabilidad5Medios))\n"
   ]
  },
  {
   "cell_type": "markdown",
   "metadata": {},
   "source": [
    "Al realizar el calculo se obtiene que la probabilidad de tomar el camino medio 5 veces seguidas es de aproximadamente 0.004073."
   ]
  },
  {
   "cell_type": "markdown",
   "metadata": {},
   "source": [
    "## Referencias\n",
    "\n",
    "- [1] Devore, J. L. (2008). Probabilidad y estadística para ingenierías y ciencias. (pp 234) Cengage Learning Editores.\n",
    "- [2] Pólya, G.. \"Über eine Aufgabe der Wahrscheinlichkeitsrechnung betreffend die Irrfahrt im Straßennetz.\" Mathematische Annalen 84 (1921): 149-160. "
   ]
  },
  {
   "cell_type": "code",
   "execution_count": null,
   "metadata": {},
   "outputs": [],
   "source": []
  }
 ],
 "metadata": {
  "kernelspec": {
   "display_name": "Python 3",
   "language": "python",
   "name": "python3"
  },
  "language_info": {
   "codemirror_mode": {
    "name": "ipython",
    "version": 3
   },
   "file_extension": ".py",
   "mimetype": "text/x-python",
   "name": "python",
   "nbconvert_exporter": "python",
   "pygments_lexer": "ipython3",
   "version": "3.6.4"
  }
 },
 "nbformat": 4,
 "nbformat_minor": 2
}
