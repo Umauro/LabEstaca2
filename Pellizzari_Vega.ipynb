{
 "cells": [
  {
   "cell_type": "markdown",
   "metadata": {},
   "source": [
    "<img src=\"img/usmlogo.png\" style=\"float:right;height:100px\">\n",
    "<img src=\"img/dilogo.png\" style=\"float:left;height:60px\">\n",
    "<center>\n",
    "<div>\n",
    "    <center>\n",
    "    <h1>Laboratorio 1 Estadística Computacional</h1>\n",
    "    </center>\n",
    "</div>\n",
    "<div>\n",
    "    <br>\n",
    "    <h5> Giorgio Pellizzari - 201473599-5 - Malla Nueva</h5>\n",
    "    <h5> Felipe Vega - 201473511-1 - Malla Nueva</h5>\n",
    "    <h6>9 de abril del 2018</h6>\n",
    "</div>\n",
    "</center>"
   ]
  },
  {
   "cell_type": "code",
   "execution_count": 174,
   "metadata": {
    "collapsed": true
   },
   "outputs": [],
   "source": [
    "import pandas as pd\n",
    "import matplotlib.pyplot as plt\n",
    "import numpy as np\n",
    "#import warnings\n",
    "#warnings.filterwarnings('ignore')"
   ]
  },
  {
   "cell_type": "markdown",
   "metadata": {},
   "source": [
    "# Simulación\n",
    "\n",
    "En la siguiente simulación se considerará el siguiente supuesto: __Cada posible camino en una trifurcación llevará al mismo punto, donde se encuentra la siguiente trifurcación, donde se volverá a elegir que camino seguir__. En un punto, cada camino tiene la misma probabilidad de ser elegido $\\left(\\frac{1}{3}\\right)$, independiente de la decisión tomada en el punto anterior.\n",
    "\n",
    "El objeto del estudio será el tiempo de viaje entre las ciudades __A__ y __B__, por lo que se definirá la variable aleatoria $X$ como el tiempo que demora en llegar el conductor desde la ciudad __A__ a la __B__.\n",
    "\n",
    "Se realizá una simulación que considera 200000 viajes, desde los cuales se obtendrán los tiempos para cada uno. Como es necesario obtener los mismos resultados cada vez que se ejecute el bloque de código con la simulación, se utilizará un generador de números pseudo-aleatorios inicializado con una semilla arbitraria. \n",
    "\n",
    "El resultado de cada uno de los viajes se guardará en el arreglo __\"tiemposDeViaje\"__. Además, como luego se requiere calcular la probabilidad de que el conductor decida tomar el camino medio 5 veces seguidas, se mantiene el contador _**contadorDeMExitos**_ para almacenar la cantidad de veces que se da esta situación."
   ]
  },
  {
   "cell_type": "code",
   "execution_count": 175,
   "metadata": {
    "collapsed": true
   },
   "outputs": [],
   "source": [
    "np.random.seed(2)\n",
    "tiemposDeViaje = []\n",
    "contadorDeMExitos = 0\n",
    "for i in range(200000):\n",
    "    tiempo = 0\n",
    "    randomNumber = np.random.randint(3,size=20)\n",
    "    cincoMContador = 0\n",
    "    for i in randomNumber:\n",
    "        if i == 0:\n",
    "            tiempo += 6\n",
    "            cincoMContador = 0\n",
    "        elif i == 1:\n",
    "            tiempo += 8\n",
    "            cincoMContador += 1\n",
    "        else:\n",
    "            tiempo += 10\n",
    "            cincoMContador = 0\n",
    "        if cincoMContador >= 5:\n",
    "            contadorDeMExitos += 1\n",
    "        \n",
    "    tiemposDeViaje.append(tiempo)\n",
    "tiemposDeViaje = np.asarray(tiemposDeViaje)\n"
   ]
  },
  {
   "cell_type": "markdown",
   "metadata": {},
   "source": [
    "Para obtener el valor esperado se utilizará el _**Teorema Del Límite Central**_ [1], el cual indica que si se tiene la media $(\\bar{X})$ de una muestra aleatoria de un tamaño _**n**_ lo suficientemente grande, $(\\bar{X})$ se puede aproximar a una distribución normal. Como en este caso se tiene un $n = 200000$ es posible aplicar el teorema, llegando a una aproximación normal, donde el valor esperado de la muestra corresponderá a la media de esta. Para calcular la media muestral se utiliza el método _**mean()**_ de _**Numpy**_."
   ]
  },
  {
   "cell_type": "code",
   "execution_count": 176,
   "metadata": {
    "collapsed": false
   },
   "outputs": [
    {
     "name": "stdout",
     "output_type": "stream",
     "text": [
      "El valor esperado del tiempo de viaje es de: 159.98677 [min]\n"
     ]
    }
   ],
   "source": [
    "valorEsperado = tiemposDeViaje.mean()\n",
    "print(\"El valor esperado del tiempo de viaje es de: \"+str(valorEsperado)+\" [min]\")"
   ]
  },
  {
   "cell_type": "markdown",
   "metadata": {},
   "source": [
    "De esta manera, se obtiene que el valor esperado del tiempo de viaje entre A y B es de 159.98677 minutos, lo cual es aproximadamente 160 minutos.\n",
    "\n"
   ]
  },
  {
   "cell_type": "markdown",
   "metadata": {},
   "source": [
    "Luego, se obtiene la varianza de la variable aleatoria utilizando el método _**var()**_ de la librería _**Numpy**_."
   ]
  },
  {
   "cell_type": "code",
   "execution_count": 177,
   "metadata": {
    "collapsed": false
   },
   "outputs": [
    {
     "name": "stdout",
     "output_type": "stream",
     "text": [
      "La varianza de los tiempos de viaje es de: 53.3722849671 [min^2]\n"
     ]
    }
   ],
   "source": [
    "varianza = tiemposDeViaje.var()\n",
    "print(\"La varianza de los tiempos de viaje es de: \" +str(varianza)+ \" [min^2]\")"
   ]
  },
  {
   "cell_type": "markdown",
   "metadata": {},
   "source": [
    "Con lo que se obtiene una varianza muestral de 53.3722 minutos cuadrados, aproximadamente 53 minutos cuadrados.\n",
    "\n",
    "Para obtener la probabilidad de que el viaje dure menos de 158 minutos se utiliza la definición empírica de probabilidad, calculando el número de éxitos dividido el número de experimentos."
   ]
  },
  {
   "cell_type": "code",
   "execution_count": 178,
   "metadata": {
    "collapsed": false
   },
   "outputs": [
    {
     "name": "stdout",
     "output_type": "stream",
     "text": [
      "La probabilidad de que el viaje dure menos de 158 minutos es de: 0.341905\n"
     ]
    }
   ],
   "source": [
    "contador = 0\n",
    "for i in tiemposDeViaje:\n",
    "    if i < 158:\n",
    "        contador += 1\n",
    "probabilidad158 = contador/len(tiemposDeViaje)    \n",
    "print(\"La probabilidad de que el viaje dure menos de 158 minutos es de: \"+ str(probabilidad158))"
   ]
  },
  {
   "cell_type": "markdown",
   "metadata": {
    "collapsed": true
   },
   "source": [
    "De esta manera se obtiene que la probabilidad de que un viaje dure menos de 158 minutos es de 0.3419.\n",
    "\n",
    "Por último, se desea calcular la probabilidad de que el conductor decida elegir el camino medio 5 veces seguidas, por lo que se calcula esta probabilidad utilizando el mismo medio anterior."
   ]
  },
  {
   "cell_type": "code",
   "execution_count": 179,
   "metadata": {
    "collapsed": false
   },
   "outputs": [
    {
     "name": "stdout",
     "output_type": "stream",
     "text": [
      "La probabilidad de que se siga el camino medio 5 veces seguidas es de: 0.0040734375\n"
     ]
    }
   ],
   "source": [
    "probabilidad5Medios = contadorDeMExitos/(16*len(tiemposDeViaje))\n",
    "print(\"La probabilidad de que se siga el camino medio 5 veces seguidas es de: \"+str(probabilidad5Medios))\n"
   ]
  },
  {
   "cell_type": "markdown",
   "metadata": {},
   "source": [
    "Al realizar el calculo se obtiene que la probabilidad de tomar el camino medio 5 veces seguidas es de aproximadamente 0.004073."
   ]
  },
  {
   "cell_type": "markdown",
   "metadata": {},
   "source": [
    "## Ames Housing\n",
    "\n",
    "Se solicita inicialmente calcular la probabilidad de que una casa cueste mas de 200.000 dolares. Para esto consideramos los casos favorables sobre los casos totales."
   ]
  },
  {
   "cell_type": "code",
   "execution_count": 180,
   "metadata": {
    "collapsed": false
   },
   "outputs": [
    {
     "name": "stdout",
     "output_type": "stream",
     "text": [
      "La probabilidad sera: 0.2924657534246575\n"
     ]
    }
   ],
   "source": [
    "dataset = pd.read_csv('ameshouses.csv')\n",
    "fav=0\n",
    "for i in range (0, len(dataset)):\n",
    "    precio=dataset['precio'][i]    \n",
    "    if precio>200000:\n",
    "        fav=fav+1\n",
    "print (\"La probabilidad sera: \" + str(fav/len(dataset)))"
   ]
  },
  {
   "cell_type": "markdown",
   "metadata": {},
   "source": [
    "Luego se pide verificar si el barrio es un buen predictor del precio y si el precio es un buen predictor del barrio. Para esto se trabaja utilizando probabilidad condicional y usaremos los cuartiles del precio para separar en rangos de probabilidad conocida."
   ]
  },
  {
   "cell_type": "code",
   "execution_count": 181,
   "metadata": {
    "collapsed": false
   },
   "outputs": [
    {
     "name": "stdout",
     "output_type": "stream",
     "text": [
      "Primer cuartil= 129975.0\n",
      "Segundo_cuartil= 163000.0\n",
      "Tercer_cuartil= 214000.0\n"
     ]
    }
   ],
   "source": [
    "subdata = dataset['precio']\n",
    "primer_cuartil=subdata.quantile(.25)\n",
    "segundo_cuartil=subdata.quantile(.5)\n",
    "tercer_cuartil=subdata.quantile(.75)\n",
    "print ('Primer cuartil= '+str(primer_cuartil))\n",
    "print ('Segundo_cuartil= '+str(segundo_cuartil))\n",
    "print ('Tercer_cuartil= '+str(tercer_cuartil))"
   ]
  },
  {
   "cell_type": "markdown",
   "metadata": {},
   "source": [
    "Ahora, se calcula la probabilidad de que una casa este en cierto barrio, y la probabilidad de que este en cierto barrio y cierto rango de precio:"
   ]
  },
  {
   "cell_type": "code",
   "execution_count": 182,
   "metadata": {
    "collapsed": false
   },
   "outputs": [
    {
     "name": "stdout",
     "output_type": "stream",
     "text": [
      "CollgCr1 : 0.10273972602739725\n",
      "CollgCr2 : 0.00821917808219178\n",
      "CollgCr3 : 0.02054794520547945\n",
      "CollgCr4 : 0.03904109589041096\n",
      "CollgCr5 : 0.03493150684931507\n",
      "Veenker1 : 0.007534246575342466\n",
      "Veenker2 : 0.0\n",
      "Veenker3 : 0.0006849315068493151\n",
      "Veenker4 : 0.0027397260273972603\n",
      "Veenker5 : 0.00410958904109589\n",
      "Crawfor1 : 0.03493150684931507\n",
      "Crawfor2 : 0.002054794520547945\n",
      "Crawfor3 : 0.007534246575342466\n",
      "Crawfor4 : 0.00821917808219178\n",
      "Crawfor5 : 0.017123287671232876\n",
      "NoRidge1 : 0.028082191780821917\n",
      "NoRidge2 : 0.0\n",
      "NoRidge3 : 0.0\n",
      "NoRidge4 : 0.0006849315068493151\n",
      "NoRidge5 : 0.0273972602739726\n",
      "Mitchel1 : 0.03356164383561644\n",
      "Mitchel2 : 0.00684931506849315\n",
      "Mitchel3 : 0.0136986301369863\n",
      "Mitchel4 : 0.010273972602739725\n",
      "Mitchel5 : 0.0027397260273972603\n",
      "Somerst1 : 0.0589041095890411\n",
      "Somerst2 : 0.0\n",
      "Somerst3 : 0.0061643835616438354\n",
      "Somerst4 : 0.01986301369863014\n",
      "Somerst5 : 0.03287671232876712\n",
      "NWAmes1 : 0.05\n",
      "NWAmes2 : 0.0006849315068493151\n",
      "NWAmes3 : 0.010958904109589041\n",
      "NWAmes4 : 0.028767123287671233\n",
      "NWAmes5 : 0.009589041095890411\n",
      "OldTown1 : 0.0773972602739726\n",
      "OldTown2 : 0.05136986301369863\n",
      "OldTown3 : 0.018493150684931507\n",
      "OldTown4 : 0.0027397260273972603\n",
      "OldTown5 : 0.003424657534246575\n",
      "BrkSide1 : 0.03972602739726028\n",
      "BrkSide2 : 0.023972602739726026\n",
      "BrkSide3 : 0.010273972602739725\n",
      "BrkSide4 : 0.00410958904109589\n",
      "BrkSide5 : 0.0013698630136986301\n",
      "Sawyer1 : 0.050684931506849315\n",
      "Sawyer2 : 0.017123287671232876\n",
      "Sawyer3 : 0.02671232876712329\n",
      "Sawyer4 : 0.00684931506849315\n",
      "Sawyer5 : 0.0\n",
      "NridgHt1 : 0.05273972602739726\n",
      "NridgHt2 : 0.0\n",
      "NridgHt3 : 0.0006849315068493151\n",
      "NridgHt4 : 0.00821917808219178\n",
      "NridgHt5 : 0.043835616438356165\n",
      "NAmes1 : 0.1541095890410959\n",
      "NAmes2 : 0.04452054794520548\n",
      "NAmes3 : 0.07671232876712329\n",
      "NAmes4 : 0.024657534246575342\n",
      "NAmes5 : 0.00684931506849315\n",
      "SawyerW1 : 0.04041095890410959\n",
      "SawyerW2 : 0.0061643835616438354\n",
      "SawyerW3 : 0.008904109589041096\n",
      "SawyerW4 : 0.013013698630136987\n",
      "SawyerW5 : 0.012328767123287671\n",
      "IDOTRR1 : 0.025342465753424658\n",
      "IDOTRR2 : 0.021232876712328767\n",
      "IDOTRR3 : 0.003424657534246575\n",
      "IDOTRR4 : 0.0006849315068493151\n",
      "IDOTRR5 : 0.0\n",
      "MeadowV1 : 0.011643835616438357\n",
      "MeadowV2 : 0.010273972602739725\n",
      "MeadowV3 : 0.0013698630136986301\n",
      "MeadowV4 : 0.0\n",
      "MeadowV5 : 0.0\n",
      "Edwards1 : 0.0684931506849315\n",
      "Edwards2 : 0.03972602739726028\n",
      "Edwards3 : 0.019178082191780823\n",
      "Edwards4 : 0.0061643835616438354\n",
      "Edwards5 : 0.003424657534246575\n",
      "Timber1 : 0.026027397260273973\n",
      "Timber2 : 0.0\n",
      "Timber3 : 0.0013698630136986301\n",
      "Timber4 : 0.008904109589041096\n",
      "Timber5 : 0.015753424657534248\n",
      "Gilbert1 : 0.05410958904109589\n",
      "Gilbert2 : 0.0\n",
      "Gilbert3 : 0.003424657534246575\n",
      "Gilbert4 : 0.038356164383561646\n",
      "Gilbert5 : 0.012328767123287671\n",
      "StoneBr1 : 0.017123287671232876\n",
      "StoneBr2 : 0.0\n",
      "StoneBr3 : 0.0\n",
      "StoneBr4 : 0.004794520547945206\n",
      "StoneBr5 : 0.012328767123287671\n",
      "ClearCr1 : 0.019178082191780823\n",
      "ClearCr2 : 0.0\n",
      "ClearCr3 : 0.003424657534246575\n",
      "ClearCr4 : 0.007534246575342466\n",
      "ClearCr5 : 0.00821917808219178\n",
      "NPkVill1 : 0.0061643835616438354\n",
      "NPkVill2 : 0.0013698630136986301\n",
      "NPkVill3 : 0.004794520547945206\n",
      "NPkVill4 : 0.0\n",
      "NPkVill5 : 0.0\n",
      "Blmngtn1 : 0.011643835616438357\n",
      "Blmngtn2 : 0.0\n",
      "Blmngtn3 : 0.0013698630136986301\n",
      "Blmngtn4 : 0.007534246575342466\n",
      "Blmngtn5 : 0.0027397260273972603\n",
      "BrDale1 : 0.010958904109589041\n",
      "BrDale2 : 0.010958904109589041\n",
      "BrDale3 : 0.0\n",
      "BrDale4 : 0.0\n",
      "BrDale5 : 0.0\n",
      "SWISU1 : 0.017123287671232876\n",
      "SWISU2 : 0.004794520547945206\n",
      "SWISU3 : 0.00821917808219178\n",
      "SWISU4 : 0.00410958904109589\n",
      "SWISU5 : 0.0\n",
      "Blueste1 : 0.0013698630136986301\n",
      "Blueste2 : 0.0006849315068493151\n",
      "Blueste3 : 0.0006849315068493151\n",
      "Blueste4 : 0.0\n",
      "Blueste5 : 0.0\n"
     ]
    }
   ],
   "source": [
    "dic={}\n",
    "dic1={}\n",
    "for i in range (0, len(dataset)):\n",
    "    barrio=dataset['barrio'][i]\n",
    "    precio=dataset['precio'][i]    \n",
    "    if (dic.get(barrio)==None):\n",
    "         dic.setdefault(barrio,[0,0,0,0,0])\n",
    "    if (precio<primer_cuartil):\n",
    "        dic[barrio][1]=dic[barrio][1]+1\n",
    "    if (primer_cuartil<precio<segundo_cuartil):\n",
    "        dic[barrio][2]=dic[barrio][2]+1\n",
    "    if (segundo_cuartil<precio<tercer_cuartil):\n",
    "        dic[barrio][3]=dic[barrio][3]+1\n",
    "    if (precio>=tercer_cuartil):\n",
    "        dic[barrio][4]=dic[barrio][4]+1\n",
    "        \n",
    "    dic[barrio][0]=dic[barrio][0]+1\n",
    "\n",
    "    \n",
    "for key in dic:\n",
    "    for i in range(0,5):\n",
    "        dic[key][i]=(dic[key][i]/len(dataset))\n",
    "        print( key+str(i+1), \":\", dic[key][i])\n",
    "        \n",
    "for i in range (0, len(dataset)):\n",
    "    barrio=dataset['barrio'][i]\n",
    "    precio=dataset['precio'][i]    \n",
    "    if (dic1.get(barrio)==None):\n",
    "         dic1.setdefault(barrio,[0,0,0,0,0])\n",
    "    if (precio<primer_cuartil):\n",
    "        dic1[barrio][1]=dic1[barrio][1]+1\n",
    "    if (primer_cuartil<precio<segundo_cuartil):\n",
    "        dic1[barrio][2]=dic1[barrio][2]+1\n",
    "    if (segundo_cuartil<precio<tercer_cuartil):\n",
    "        dic1[barrio][3]=dic1[barrio][3]+1\n",
    "    if (precio>=tercer_cuartil):\n",
    "        dic1[barrio][4]=dic1[barrio][4]+1\n",
    "        \n",
    "    dic1[barrio][0]=dic1[barrio][0]+1\n",
    "\n",
    "    \n",
    "for key in dic1:\n",
    "    for i in range(0,5):\n",
    "        dic1[key][i]=(dic1[key][i]/len(dataset))\n",
    "    "
   ]
  },
  {
   "cell_type": "markdown",
   "metadata": {},
   "source": [
    "Donde:\n",
    "\n",
    "- Barrio1 representa la probabilidad de que una vivienda pertenesca a ese barrio\n",
    "- Barrio2 representa la probabilidad de que pertenesca a ese barrio su precio sea menor al primer cuartil\n",
    "- Barrio3 representa la probabilidad de que pertenesca a ese barrio su precio sea menor al segundo cuartil\n",
    "- Barrio4 representa la probabilidad de que pertenesca a ese barrio su precio sea menor al tercer cuartil\n",
    "- Barrio5 representa la probabilidad de que pertenesca a ese barrio su precio sea mayor o igual al tercer cuartil\n",
    "\n",
    "A partir de estos datos se procede a calcular la probabilidad condicional para cada caso."
   ]
  },
  {
   "cell_type": "code",
   "execution_count": 183,
   "metadata": {
    "collapsed": false
   },
   "outputs": [
    {
     "name": "stdout",
     "output_type": "stream",
     "text": [
      "CollgCr1 : 0.08\n",
      "CollgCr2 : 0.2\n",
      "CollgCr3 : 0.38\n",
      "CollgCr4 : 0.34\n",
      "Veenker1 : 0.0\n",
      "Veenker2 : 0.09090909090909091\n",
      "Veenker3 : 0.36363636363636365\n",
      "Veenker4 : 0.5454545454545454\n",
      "Crawfor1 : 0.0588235294117647\n",
      "Crawfor2 : 0.2156862745098039\n",
      "Crawfor3 : 0.2352941176470588\n",
      "Crawfor4 : 0.4901960784313725\n",
      "NoRidge1 : 0.0\n",
      "NoRidge2 : 0.0\n",
      "NoRidge3 : 0.024390243902439025\n",
      "NoRidge4 : 0.975609756097561\n",
      "Mitchel1 : 0.2040816326530612\n",
      "Mitchel2 : 0.4081632653061224\n",
      "Mitchel3 : 0.3061224489795918\n",
      "Mitchel4 : 0.08163265306122448\n",
      "Somerst1 : 0.0\n",
      "Somerst2 : 0.10465116279069767\n",
      "Somerst3 : 0.33720930232558144\n",
      "Somerst4 : 0.5581395348837209\n",
      "NWAmes1 : 0.0136986301369863\n",
      "NWAmes2 : 0.2191780821917808\n",
      "NWAmes3 : 0.5753424657534246\n",
      "NWAmes4 : 0.1917808219178082\n",
      "OldTown1 : 0.663716814159292\n",
      "OldTown2 : 0.23893805309734514\n",
      "OldTown3 : 0.035398230088495575\n",
      "OldTown4 : 0.04424778761061947\n",
      "BrkSide1 : 0.6034482758620688\n",
      "BrkSide2 : 0.2586206896551724\n",
      "BrkSide3 : 0.10344827586206895\n",
      "BrkSide4 : 0.034482758620689655\n",
      "Sawyer1 : 0.33783783783783783\n",
      "Sawyer2 : 0.5270270270270271\n",
      "Sawyer3 : 0.13513513513513511\n",
      "Sawyer4 : 0.0\n",
      "NridgHt1 : 0.0\n",
      "NridgHt2 : 0.012987012987012988\n",
      "NridgHt3 : 0.15584415584415584\n",
      "NridgHt4 : 0.8311688311688312\n",
      "NAmes1 : 0.28888888888888886\n",
      "NAmes2 : 0.49777777777777776\n",
      "NAmes3 : 0.16\n",
      "NAmes4 : 0.04444444444444444\n",
      "SawyerW1 : 0.15254237288135591\n",
      "SawyerW2 : 0.22033898305084745\n",
      "SawyerW3 : 0.3220338983050848\n",
      "SawyerW4 : 0.30508474576271183\n",
      "IDOTRR1 : 0.8378378378378378\n",
      "IDOTRR2 : 0.13513513513513511\n",
      "IDOTRR3 : 0.02702702702702703\n",
      "IDOTRR4 : 0.0\n",
      "MeadowV1 : 0.8823529411764705\n",
      "MeadowV2 : 0.11764705882352941\n",
      "MeadowV3 : 0.0\n",
      "MeadowV4 : 0.0\n",
      "Edwards1 : 0.5800000000000001\n",
      "Edwards2 : 0.28\n",
      "Edwards3 : 0.09\n",
      "Edwards4 : 0.05\n",
      "Timber1 : 0.0\n",
      "Timber2 : 0.05263157894736842\n",
      "Timber3 : 0.34210526315789475\n",
      "Timber4 : 0.6052631578947368\n",
      "Gilbert1 : 0.0\n",
      "Gilbert2 : 0.06329113924050632\n",
      "Gilbert3 : 0.7088607594936709\n",
      "Gilbert4 : 0.22784810126582278\n",
      "StoneBr1 : 0.0\n",
      "StoneBr2 : 0.0\n",
      "StoneBr3 : 0.28\n",
      "StoneBr4 : 0.72\n",
      "ClearCr1 : 0.0\n",
      "ClearCr2 : 0.17857142857142855\n",
      "ClearCr3 : 0.39285714285714285\n",
      "ClearCr4 : 0.4285714285714285\n",
      "NPkVill1 : 0.22222222222222224\n",
      "NPkVill2 : 0.7777777777777778\n",
      "NPkVill3 : 0.0\n",
      "NPkVill4 : 0.0\n",
      "Blmngtn1 : 0.0\n",
      "Blmngtn2 : 0.11764705882352941\n",
      "Blmngtn3 : 0.6470588235294118\n",
      "Blmngtn4 : 0.23529411764705882\n",
      "BrDale1 : 1.0\n",
      "BrDale2 : 0.0\n",
      "BrDale3 : 0.0\n",
      "BrDale4 : 0.0\n",
      "SWISU1 : 0.28\n",
      "SWISU2 : 0.48\n",
      "SWISU3 : 0.24\n",
      "SWISU4 : 0.0\n",
      "Blueste1 : 0.5\n",
      "Blueste2 : 0.5\n",
      "Blueste3 : 0.0\n",
      "Blueste4 : 0.0\n"
     ]
    }
   ],
   "source": [
    "  for key in dic:\n",
    "        for i in range(1,5):\n",
    "            dic[key][i]=(dic[key][i]/dic[key][0])\n",
    "            print( key+str(i), \":\", dic[key][i])\n",
    "    "
   ]
  },
  {
   "cell_type": "markdown",
   "metadata": {},
   "source": [
    "Donde:\n",
    "\n",
    "- Barrio1 representa la probabilidad de condicional de que este en ese barrio, dado que su precio es menor al primer cuartil\n",
    "- Barrio2 representa la probabilidad de condicional de que este en ese barrio, dado que su precio esta entre el primer y el segundo cuartil\n",
    "- Barrio3 representa la probabilidad de condicional de que este en ese barrio, dado que su precio esta entre el segundo y el tercer cuartil\n",
    "- Barrio4 representa la probabilidad de condicional de que este en ese barrio, dado que su precio es mayor o igual al tercer cuartil\n",
    "\n",
    "AGREGAR CONTUCIONES\n",
    "\n",
    "Luego se realiza el mismo trabajo para la probabilidad de que pertenesca a cierto rango de precio dado un barrio."
   ]
  },
  {
   "cell_type": "code",
   "execution_count": 184,
   "metadata": {
    "collapsed": false
   },
   "outputs": [
    {
     "name": "stdout",
     "output_type": "stream",
     "text": [
      "CollgCr1 : 0.03287671232876712\n",
      "CollgCr2 : 0.0821917808219178\n",
      "CollgCr3 : 0.15616438356164383\n",
      "CollgCr4 : 0.13972602739726028\n",
      "Veenker1 : 0.0\n",
      "Veenker2 : 0.0027397260273972603\n",
      "Veenker3 : 0.010958904109589041\n",
      "Veenker4 : 0.01643835616438356\n",
      "Crawfor1 : 0.00821917808219178\n",
      "Crawfor2 : 0.030136986301369864\n",
      "Crawfor3 : 0.03287671232876712\n",
      "Crawfor4 : 0.0684931506849315\n",
      "NoRidge1 : 0.0\n",
      "NoRidge2 : 0.0\n",
      "NoRidge3 : 0.0027397260273972603\n",
      "NoRidge4 : 0.1095890410958904\n",
      "Mitchel1 : 0.0273972602739726\n",
      "Mitchel2 : 0.0547945205479452\n",
      "Mitchel3 : 0.0410958904109589\n",
      "Mitchel4 : 0.010958904109589041\n",
      "Somerst1 : 0.0\n",
      "Somerst2 : 0.024657534246575342\n",
      "Somerst3 : 0.07945205479452055\n",
      "Somerst4 : 0.13150684931506848\n",
      "NWAmes1 : 0.0027397260273972603\n",
      "NWAmes2 : 0.043835616438356165\n",
      "NWAmes3 : 0.11506849315068493\n",
      "NWAmes4 : 0.038356164383561646\n",
      "OldTown1 : 0.2054794520547945\n",
      "OldTown2 : 0.07397260273972603\n",
      "OldTown3 : 0.010958904109589041\n",
      "OldTown4 : 0.0136986301369863\n",
      "BrkSide1 : 0.0958904109589041\n",
      "BrkSide2 : 0.0410958904109589\n",
      "BrkSide3 : 0.01643835616438356\n",
      "BrkSide4 : 0.005479452054794521\n",
      "Sawyer1 : 0.0684931506849315\n",
      "Sawyer2 : 0.10684931506849316\n",
      "Sawyer3 : 0.0273972602739726\n",
      "Sawyer4 : 0.0\n",
      "NridgHt1 : 0.0\n",
      "NridgHt2 : 0.0027397260273972603\n",
      "NridgHt3 : 0.03287671232876712\n",
      "NridgHt4 : 0.17534246575342466\n",
      "NAmes1 : 0.1780821917808219\n",
      "NAmes2 : 0.30684931506849317\n",
      "NAmes3 : 0.09863013698630137\n",
      "NAmes4 : 0.0273972602739726\n",
      "SawyerW1 : 0.024657534246575342\n",
      "SawyerW2 : 0.03561643835616438\n",
      "SawyerW3 : 0.052054794520547946\n",
      "SawyerW4 : 0.049315068493150684\n",
      "IDOTRR1 : 0.08493150684931507\n",
      "IDOTRR2 : 0.0136986301369863\n",
      "IDOTRR3 : 0.0027397260273972603\n",
      "IDOTRR4 : 0.0\n",
      "MeadowV1 : 0.0410958904109589\n",
      "MeadowV2 : 0.005479452054794521\n",
      "MeadowV3 : 0.0\n",
      "MeadowV4 : 0.0\n",
      "Edwards1 : 0.1589041095890411\n",
      "Edwards2 : 0.07671232876712329\n",
      "Edwards3 : 0.024657534246575342\n",
      "Edwards4 : 0.0136986301369863\n",
      "Timber1 : 0.0\n",
      "Timber2 : 0.005479452054794521\n",
      "Timber3 : 0.03561643835616438\n",
      "Timber4 : 0.06301369863013699\n",
      "Gilbert1 : 0.0\n",
      "Gilbert2 : 0.0136986301369863\n",
      "Gilbert3 : 0.15342465753424658\n",
      "Gilbert4 : 0.049315068493150684\n",
      "StoneBr1 : 0.0\n",
      "StoneBr2 : 0.0\n",
      "StoneBr3 : 0.019178082191780823\n",
      "StoneBr4 : 0.049315068493150684\n",
      "ClearCr1 : 0.0\n",
      "ClearCr2 : 0.0136986301369863\n",
      "ClearCr3 : 0.030136986301369864\n",
      "ClearCr4 : 0.03287671232876712\n",
      "NPkVill1 : 0.005479452054794521\n",
      "NPkVill2 : 0.019178082191780823\n",
      "NPkVill3 : 0.0\n",
      "NPkVill4 : 0.0\n",
      "Blmngtn1 : 0.0\n",
      "Blmngtn2 : 0.005479452054794521\n",
      "Blmngtn3 : 0.030136986301369864\n",
      "Blmngtn4 : 0.010958904109589041\n",
      "BrDale1 : 0.043835616438356165\n",
      "BrDale2 : 0.0\n",
      "BrDale3 : 0.0\n",
      "BrDale4 : 0.0\n",
      "SWISU1 : 0.019178082191780823\n",
      "SWISU2 : 0.03287671232876712\n",
      "SWISU3 : 0.01643835616438356\n",
      "SWISU4 : 0.0\n",
      "Blueste1 : 0.0027397260273972603\n",
      "Blueste2 : 0.0027397260273972603\n",
      "Blueste3 : 0.0\n",
      "Blueste4 : 0.0\n"
     ]
    }
   ],
   "source": [
    "sum=0\n",
    "for key in dic1:\n",
    "    dic1[key][1]=(dic1[key][1]/0.25)\n",
    "    dic1[key][2]=(dic1[key][2]/0.25)\n",
    "    dic1[key][3]=(dic1[key][3]/0.25)\n",
    "    dic1[key][4]=(dic1[key][4]/0.25)\n",
    "    for i in range(1,5):\n",
    "        sum=sum+dic1[key][i]\n",
    "        print( key+str(i), \":\", dic1[key][i])"
   ]
  },
  {
   "cell_type": "markdown",
   "metadata": {},
   "source": [
    "## Se observa que es pesimo indicador. "
   ]
  },
  {
   "cell_type": "markdown",
   "metadata": {},
   "source": [
    "Ahora se realiza el mismo analisis para obtener las relaciones condicionales entre el precio y la zona."
   ]
  },
  {
   "cell_type": "code",
   "execution_count": 185,
   "metadata": {
    "collapsed": false
   },
   "outputs": [
    {
     "name": "stdout",
     "output_type": "stream",
     "text": [
      "RL1 : 0.7883561643835616\n",
      "RL2 : 0.14520547945205478\n",
      "RL3 : 0.1952054794520548\n",
      "RL4 : 0.21986301369863015\n",
      "RL5 : 0.2267123287671233\n",
      "RM1 : 0.14931506849315068\n",
      "RM2 : 0.09452054794520548\n",
      "RM3 : 0.04178082191780822\n",
      "RM4 : 0.0061643835616438354\n",
      "RM5 : 0.005479452054794521\n",
      "C (all)1 : 0.00684931506849315\n",
      "C (all)2 : 0.0061643835616438354\n",
      "C (all)3 : 0.0006849315068493151\n",
      "C (all)4 : 0.0\n",
      "C (all)5 : 0.0\n",
      "FV1 : 0.04452054794520548\n",
      "FV2 : 0.0\n",
      "FV3 : 0.005479452054794521\n",
      "FV4 : 0.01986301369863014\n",
      "FV5 : 0.019178082191780823\n",
      "RH1 : 0.010958904109589041\n",
      "RH2 : 0.00410958904109589\n",
      "RH3 : 0.005479452054794521\n",
      "RH4 : 0.0013698630136986301\n",
      "RH5 : 0.0\n"
     ]
    }
   ],
   "source": [
    "dic2={}\n",
    "dic3={}\n",
    "for i in range (0, len(dataset)):\n",
    "    zona=dataset['zona'][i]\n",
    "    precio=dataset['precio'][i]    \n",
    "    if (dic2.get(zona)==None):\n",
    "         dic2.setdefault(zona,[0,0,0,0,0])\n",
    "    if (precio<primer_cuartil):\n",
    "        dic2[zona][1]=dic2[zona][1]+1\n",
    "    if (primer_cuartil<precio<segundo_cuartil):\n",
    "        dic2[zona][2]=dic2[zona][2]+1\n",
    "    if (segundo_cuartil<precio<tercer_cuartil):\n",
    "        dic2[zona][3]=dic2[zona][3]+1\n",
    "    if (precio>=tercer_cuartil):\n",
    "        dic2[zona][4]=dic2[zona][4]+1\n",
    "        \n",
    "    dic2[zona][0]=dic2[zona][0]+1\n",
    "\n",
    "    \n",
    "for key in dic2:\n",
    "    for i in range(0,5):\n",
    "        dic2[key][i]=(dic2[key][i]/len(dataset))\n",
    "        print( key+str(i+1), \":\", dic2[key][i])\n",
    "        \n",
    "for i in range (0, len(dataset)):\n",
    "    zona=dataset['zona'][i]\n",
    "    precio=dataset['precio'][i]    \n",
    "    if (dic3.get(zona)==None):\n",
    "         dic3.setdefault(zona,[0,0,0,0,0])\n",
    "    if (precio<primer_cuartil):\n",
    "        dic3[zona][1]=dic3[zona][1]+1\n",
    "    if (primer_cuartil<precio<segundo_cuartil):\n",
    "        dic3[zona][2]=dic3[zona][2]+1\n",
    "    if (segundo_cuartil<precio<tercer_cuartil):\n",
    "        dic3[zona][3]=dic3[zona][3]+1\n",
    "    if (precio>=tercer_cuartil):\n",
    "        dic3[zona][4]=dic3[zona][4]+1\n",
    "        \n",
    "    dic3[zona][0]=dic3[zona][0]+1\n",
    "\n",
    "    \n",
    "for key in dic3:\n",
    "    for i in range(0,5):\n",
    "        dic3[key][i]=(dic3[key][i]/len(dataset))\n",
    "        \n",
    "    "
   ]
  },
  {
   "cell_type": "markdown",
   "metadata": {},
   "source": [
    "Donde:\n",
    "\n",
    "- Zona1 representa la probabilidad de que una vivienda pertenesca a esa zona\n",
    "- Zona2 representa la probabilidad de que pertenesca a esa zona su precio sea menor al primer cuartil\n",
    "- Zona3 representa la probabilidad de que pertenesca a esa zona su precio sea menor al segundo cuartil\n",
    "- Zona4 representa la probabilidad de que pertenesca a esa zona su precio sea menor al tercer cuartil\n",
    "- Zona5 representa la probabilidad de que pertenesca a esa zona su precio sea mayor o igual al tercer cuartil\n",
    "\n",
    "A partir de estos datos se procede a calcular la probabilidad condicional para cada caso."
   ]
  },
  {
   "cell_type": "code",
   "execution_count": 186,
   "metadata": {
    "collapsed": false
   },
   "outputs": [
    {
     "name": "stdout",
     "output_type": "stream",
     "text": [
      "RL1 : 0.1841876629018245\n",
      "RL2 : 0.2476107732406603\n",
      "RL3 : 0.27888792354474373\n",
      "RL4 : 0.2875760208514336\n",
      "RM1 : 0.6330275229357798\n",
      "RM2 : 0.27981651376146793\n",
      "RM3 : 0.04128440366972477\n",
      "RM4 : 0.03669724770642202\n",
      "C (all)1 : 0.9\n",
      "C (all)2 : 0.1\n",
      "C (all)3 : 0.0\n",
      "C (all)4 : 0.0\n",
      "FV1 : 0.0\n",
      "FV2 : 0.12307692307692308\n",
      "FV3 : 0.44615384615384623\n",
      "FV4 : 0.4307692307692308\n",
      "RH1 : 0.37499999999999994\n",
      "RH2 : 0.5\n",
      "RH3 : 0.125\n",
      "RH4 : 0.0\n"
     ]
    }
   ],
   "source": [
    "for key in dic2:\n",
    "        for i in range(1,5):\n",
    "            dic2[key][i]=(dic2[key][i]/dic2[key][0])\n",
    "            print( key+str(i), \":\", dic2[key][i])"
   ]
  },
  {
   "cell_type": "markdown",
   "metadata": {},
   "source": [
    "Donde:\n",
    "\n",
    "- Zona1 representa la probabilidad de condicional de que este en esa zona, dado que su precio es menor al primer cuartil\n",
    "- Zona2 representa la probabilidad de condicional de que este en esa zona, dado que su precio esta entre el primer y el segundo cuartil\n",
    "- Zona3 representa la probabilidad de condicional de que este en esa zona, dado que su precio esta entre el segundo y el tercer cuartil\n",
    "- Zona4 representa la probabilidad de condicional de que este en esa zona, dado que su precio es mayor o igual al tercer cuartil\n",
    "\n",
    "AGREGAR CONTUCIONES\n",
    "\n",
    "Luego se realiza el mismo trabajo para la probabilidad de que pertenesca a cierto rango de precio dado una zona."
   ]
  },
  {
   "cell_type": "code",
   "execution_count": 187,
   "metadata": {
    "collapsed": false
   },
   "outputs": [
    {
     "name": "stdout",
     "output_type": "stream",
     "text": [
      "RL1 : 0.5808219178082191\n",
      "RL2 : 0.7808219178082192\n",
      "RL3 : 0.8794520547945206\n",
      "RL4 : 0.9068493150684932\n",
      "RM1 : 0.3780821917808219\n",
      "RM2 : 0.16712328767123288\n",
      "RM3 : 0.024657534246575342\n",
      "RM4 : 0.021917808219178082\n",
      "C (all)1 : 0.024657534246575342\n",
      "C (all)2 : 0.0027397260273972603\n",
      "C (all)3 : 0.0\n",
      "C (all)4 : 0.0\n",
      "FV1 : 0.0\n",
      "FV2 : 0.021917808219178082\n",
      "FV3 : 0.07945205479452055\n",
      "FV4 : 0.07671232876712329\n",
      "RH1 : 0.01643835616438356\n",
      "RH2 : 0.021917808219178082\n",
      "RH3 : 0.005479452054794521\n",
      "RH4 : 0.0\n"
     ]
    }
   ],
   "source": [
    "sum=0\n",
    "for key in dic3:\n",
    "    dic3[key][1]=(dic3[key][1]/0.25)\n",
    "    dic3[key][2]=(dic3[key][2]/0.25)\n",
    "    dic3[key][3]=(dic3[key][3]/0.25)\n",
    "    dic3[key][4]=(dic3[key][4]/0.25)\n",
    "    for i in range(1,5):\n",
    "        sum=sum+dic3[key][i]\n",
    "        print( key+str(i), \":\", dic3[key][i])"
   ]
  },
  {
   "cell_type": "markdown",
   "metadata": {},
   "source": [
    "## Se observa que es peeëeésimo indicador. "
   ]
  },
  {
   "cell_type": "markdown",
   "metadata": {},
   "source": [
    "## Camino Aleatorio\n",
    "\n",
    "Se simulan cuatros distintos caminos aleatorios unidimensionales siguiendo una distribución Normal Estándar. Para esto se genera un arreglo de 800 elementos utilizando la función _**random.normal**_ de la librería _**Numpy**_, donde los primeros 200 números determinarán los pasos del primer camino aleatorio, los segundos 200 números determinarán los pasos del segundo camino aleatorio y así hasta tener los pasos de los cuatro caminos.\n",
    "\n",
    "Dada la simetría en torno al 0 de la distribución Normal Estándar, la manera de determinar hacia donde se camina en cada paso es la siguiente: Si el número es menor a 0 se caminará hacia atrás en el eje de abscisas. En caso contrario se caminará hacia adelante en el eje antes mencionado. "
   ]
  },
  {
   "cell_type": "code",
   "execution_count": 188,
   "metadata": {
    "collapsed": false
   },
   "outputs": [],
   "source": [
    "normal = np.random.normal(0,1,800) \n",
    "        \n",
    "x = list(range(201))\n",
    "y1 = [0]\n",
    "y2 = [0]\n",
    "y3 = [0]\n",
    "y4 = [0]\n",
    "\n",
    "contador = 0\n",
    "for i in range(800):\n",
    "    if normal[i] < 0:\n",
    "        contador -= 1\n",
    "        if i < 200:\n",
    "            y1.append(contador)\n",
    "        elif i < 400:\n",
    "            y2.append(contador)\n",
    "        elif i < 600:\n",
    "            y3.append(contador)\n",
    "        else:\n",
    "            y4.append(contador)\n",
    "    else:  \n",
    "        contador += 1\n",
    "        if i < 200:\n",
    "            y1.append(contador)\n",
    "        elif i < 400:\n",
    "            y2.append(contador)\n",
    "        elif i < 600:\n",
    "            y3.append(contador)\n",
    "        else:\n",
    "            y4.append(contador)\n",
    "    if i == 199 or i == 399 or i == 599:\n",
    "        contador = 0 \n",
    "\n",
    "\n",
    "\n",
    "            \n"
   ]
  },
  {
   "cell_type": "markdown",
   "metadata": {},
   "source": [
    "Para cada camino, se guardan los 200 valores de los desplazamientos. De esta manera se procede a graficar desplazamiento versus tiempo para los cuatro caminos."
   ]
  },
  {
   "cell_type": "code",
   "execution_count": 189,
   "metadata": {
    "collapsed": false
   },
   "outputs": [
    {
     "data": {
      "image/png": "[encoded data removed]",
      "text/plain": [
       "<matplotlib.figure.Figure at 0x263423fddd8>"
      ]
     },
     "metadata": {},
     "output_type": "display_data"
    }
   ],
   "source": [
    "caption = \"Gráfico de Desplazamiento versus Tiempo para 4 caminatas aleatorias unidimensionales.\"    \n",
    "fig = plt.figure(figsize=(10,5)) \n",
    "fig.text(.5,.001, caption, ha=\"center\",style=\"oblique\")\n",
    "plt.title(\"Desplazamiento vs Tiempo\")\n",
    "plt.xlabel(\"Tiempo\")\n",
    "plt.ylabel(\"Desplazamiento\")\n",
    "plt.plot(x,y1)\n",
    "plt.plot(x,y2)\n",
    "plt.plot(x,y3)\n",
    "plt.plot(x,y4)\n",
    "plt.show()\n"
   ]
  },
  {
   "cell_type": "markdown",
   "metadata": {},
   "source": [
    "Se puede observar que, los movimientos tomados en los cuatro caminos siguen una distribución normal, todos terminan con un desplazamiento distinto una vez pasados los 200 movimientos. También se puede ver que todos los caminos vuelven a pasar por el origen.\n",
    "\n",
    "Luego, se desea estudiar caminos aleatorios bidimensionales y tridimensionales, principalmente la probabilidad de volver al punto inicial dada una cierta cantidad de pasos.\n",
    "\n",
    "Para simular estas caminatas se utilizará una función que elegirá entre -1 y 1 de manera uniforme. "
   ]
  },
  {
   "cell_type": "code",
   "execution_count": 190,
   "metadata": {
    "collapsed": true
   },
   "outputs": [],
   "source": [
    "def choice():\n",
    "    return np.random.choice([1,-1])"
   ]
  },
  {
   "cell_type": "markdown",
   "metadata": {},
   "source": [
    "Utilizando la función anterior, se decidirá la trayectoria en los casos bidimensionales y tridimensionales. En el caso bidimensional se realizará de la siguiente manera.\n",
    "\n",
    "- Se utilizará dos veces la función Choice.\n",
    "    - Con esto se obtendrá un vector de movimiento, el cual podrá ser una de las cuatro diagonales, cada una equiprobables de ser elegidas.\n"
   ]
  },
  {
   "cell_type": "code",
   "execution_count": 191,
   "metadata": {
    "collapsed": true
   },
   "outputs": [],
   "source": [
    "\n",
    "def pasoBidimensional(posicionActual):\n",
    "    a = choice()\n",
    "    b = choice()\n",
    "    posicionActual[0] += a\n",
    "    posicionActual[1] += b\n",
    "            "
   ]
  },
  {
   "cell_type": "markdown",
   "metadata": {},
   "source": [
    "Utilizando lo anterior se simulan 10000 caminatas aleatorias, cada una con 500 pasos máximos, donde el caminante partirá desde el punto (0, 0). Los resultados se almacenan en la lista _**\"volvio\"**_, guardando un 1 si el caminante logró volver al origen y 0 si no. Además se almacenan la cantidad de pasos necesarios en la lista _**\"pasos2D\"**_.\n",
    "\n",
    "Luego, se calcula la probabilidad de que el caminante vuelva al origen en un paseo de 500 pasos máximos utilizando la definición de probabilidad empírica."
   ]
  },
  {
   "cell_type": "code",
   "execution_count": 192,
   "metadata": {
    "collapsed": false
   },
   "outputs": [
    {
     "ename": "TypeError",
     "evalue": "'float' object is not callable",
     "output_type": "error",
     "traceback": [
      "\u001b[0;31m---------------------------------------------------------------------------\u001b[0m",
      "\u001b[0;31mTypeError\u001b[0m                                 Traceback (most recent call last)",
      "\u001b[0;32m<ipython-input-192-19c461246cbd>\u001b[0m in \u001b[0;36m<module>\u001b[0;34m()\u001b[0m\n\u001b[1;32m     15\u001b[0m         \u001b[0mpasos2D\u001b[0m\u001b[1;33m.\u001b[0m\u001b[0mappend\u001b[0m\u001b[1;33m(\u001b[0m\u001b[1;36m500\u001b[0m\u001b[1;33m)\u001b[0m\u001b[1;33m\u001b[0m\u001b[0m\n\u001b[1;32m     16\u001b[0m \u001b[1;33m\u001b[0m\u001b[0m\n\u001b[0;32m---> 17\u001b[0;31m \u001b[0mprint\u001b[0m\u001b[1;33m(\u001b[0m\u001b[1;34m\"La probabilidad de volver al origen es de: \"\u001b[0m\u001b[1;33m+\u001b[0m\u001b[0mstr\u001b[0m\u001b[1;33m(\u001b[0m\u001b[0msum\u001b[0m\u001b[1;33m(\u001b[0m\u001b[0mvolvio\u001b[0m\u001b[1;33m)\u001b[0m\u001b[1;33m/\u001b[0m\u001b[0mlen\u001b[0m\u001b[1;33m(\u001b[0m\u001b[0mvolvio\u001b[0m\u001b[1;33m)\u001b[0m\u001b[1;33m)\u001b[0m\u001b[1;33m)\u001b[0m\u001b[1;33m\u001b[0m\u001b[0m\n\u001b[0m",
      "\u001b[0;31mTypeError\u001b[0m: 'float' object is not callable"
     ]
    }
   ],
   "source": [
    "volvio = []\n",
    "pasos2D = []\n",
    "for j in range(10000):\n",
    "    posicion = [0,0]\n",
    "    flagVolvio = False\n",
    "    for i in range(500):  \n",
    "        pasoBidimensional(posicion)\n",
    "        if posicion[0] == 0 and posicion[1] == 0:\n",
    "            volvio.append(1)\n",
    "            pasos2D.append(i + 1)\n",
    "            flagVolvio = True\n",
    "            break\n",
    "    if flagVolvio == False:\n",
    "        volvio.append(0)\n",
    "        pasos2D.append(500)\n",
    "\n",
    "print(\"La probabilidad de volver al origen es de: \"+str(sum(volvio)/len(volvio))) "
   ]
  },
  {
   "cell_type": "markdown",
   "metadata": {},
   "source": [
    "Una vez realizadas las simulaciones con un tope máximo de 500, la probabilidad de volver al origen es de 0.657.\n",
    "\n",
    "Para el caso tridimensional se sigue el mismo razonamiento utilizado para el caso bidimensional, pero en este caso de utilizará 3 veces la función _**choice**_. En este caso se obtendrá un vector movimiento que definirá el movimiento por una de las ocho \"diagonales\" presentes en un modelo 3D."
   ]
  },
  {
   "cell_type": "code",
   "execution_count": null,
   "metadata": {
    "collapsed": true
   },
   "outputs": [],
   "source": [
    "def pasoTridimensional(posicionActual):\n",
    "    a = choice()\n",
    "    b = choice()\n",
    "    c = choice()\n",
    "    posicionActual[0] += a\n",
    "    posicionActual[1] += b\n",
    "    posicionActual[2] += c"
   ]
  },
  {
   "cell_type": "markdown",
   "metadata": {},
   "source": [
    "En este caso también se hacen 10000 simulaciones con un tope de pasos de 500. La manera de almacenar los resultados es la misma que en el caso bidimiensional, en este caso los resultados se guardarán en los arreglos _**volvio3D**_ y _**pasos3D**_."
   ]
  },
  {
   "cell_type": "code",
   "execution_count": null,
   "metadata": {
    "collapsed": false
   },
   "outputs": [],
   "source": [
    "volvio3D = []\n",
    "pasos3D = []\n",
    "for j in range(10000):\n",
    "    posicion = [0,0,0]\n",
    "    flagVolvio = False\n",
    "    for i in range(500):  \n",
    "        pasoTridimensional(posicion)\n",
    "        if posicion[0] == 0 and posicion[1] == 0 and posicion[2] == 0:\n",
    "            volvio3D.append(1)\n",
    "            pasos3D.append(i + 1)\n",
    "            flagVolvio = True\n",
    "            break\n",
    "    if flagVolvio == False:\n",
    "        volvio3D.append(0)\n",
    "        pasos3D.append(500)\n",
    "        \n",
    "print(\"La probabilidad de volver al origen es de: \"+str(sum(volvio3D)/len(volvio3D)))        "
   ]
  },
  {
   "cell_type": "markdown",
   "metadata": {},
   "source": [
    "Al calcular la probabilidad de volver al origen en una caminata tridimensional se obtiene que es 0.2733, lo que es menor al valor obtenido al calcular el caso bidimensional. Esto indica que la afirmación \"es más probable que un humano borracho llegue a su casa que un pájaro borracho llegue a su nido\", bajo esta configuración de parámetros, es cierta.\n",
    "\n",
    "Por último, Pòlya (1921)[2] demostró que la probabilidad de volver al origen en una caminata aleatoria unidimensional y bidimensional es 1, por lo que es de esperar que a medida que se aumenta la cantidad de pasos la probabilidad de volver al origen en el caso bidimensional aumente. Por otro lado Montroll (1956)[3] demostró que la probabilidad de volver al origen en el caso tridimensional es aproximadamente $0.340537$, por lo que al aumentar la cantidad de pasos máximos se debería converger a dicho valor."
   ]
  },
  {
   "cell_type": "markdown",
   "metadata": {},
   "source": [
    "## Referencias\n",
    "\n",
    "- [1] Devore, J. L. (2008). Probabilidad y estadística para ingenierías y ciencias. (pp 234) Cengage Learning Editores.\n",
    "- [2] Pólya, G.. \"Über eine Aufgabe der Wahrscheinlichkeitsrechnung betreffend die Irrfahrt im Straßennetz.\" Mathematische Annalen 84 (1921): 149-160. \n",
    "- [3] Montroll, E. W. \"Random Walks in Multidimensional Spaces, Especially on Periodic Lattices.\" J. SIAM 4, 241-260, (1956). "
   ]
  },
  {
   "cell_type": "code",
   "execution_count": null,
   "metadata": {
    "collapsed": true
   },
   "outputs": [],
   "source": []
  },
  {
   "cell_type": "code",
   "execution_count": null,
   "metadata": {
    "collapsed": true
   },
   "outputs": [],
   "source": []
  }
 ],
 "metadata": {
  "kernelspec": {
   "display_name": "Python 3",
   "language": "python",
   "name": "python3"
  },
  "language_info": {
   "codemirror_mode": {
    "name": "ipython",
    "version": 3
   },
   "file_extension": ".py",
   "mimetype": "text/x-python",
   "name": "python",
   "nbconvert_exporter": "python",
   "pygments_lexer": "ipython3",
   "version": "3.6.0"
  }
 },
 "nbformat": 4,
 "nbformat_minor": 2
}
